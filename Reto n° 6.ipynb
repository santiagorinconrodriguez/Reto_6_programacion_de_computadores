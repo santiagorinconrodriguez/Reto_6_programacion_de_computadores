{
 "cells": [
  {
   "cell_type": "markdown",
   "id": "69e6ae36",
   "metadata": {},
   "source": [
    "### Solución a los ejercicios propuestos en el reto n° 6"
   ]
  },
  {
   "cell_type": "markdown",
   "id": "5e4f1fce",
   "metadata": {},
   "source": [
    "1. Imprimir un listado con los números del 1 al 100 cada uno con su respectivo cuadrado"
   ]
  },
  {
   "cell_type": "code",
   "execution_count": null,
   "id": "234daa69",
   "metadata": {},
   "outputs": [],
   "source": [
    "# Programa para crear un listado con los números del 1 al 100 cada uno con su respectivo cuadrado\n",
    "\n",
    "numero : int = 1\n",
    "while numero <= 100:\n",
    "    cuadrado : int = numero**2\n",
    "    print (numero, cuadrado, sep = \" , \")\n",
    "    numero = numero + 1"
   ]
  },
  {
   "cell_type": "markdown",
   "id": "d8913e82",
   "metadata": {},
   "source": [
    "2. Imprimir un listado con los números impares desde 1 hasta 999 y seguidamente otro listado con los números pares desde 2 hasta 1000."
   ]
  },
  {
   "cell_type": "code",
   "execution_count": null,
   "id": "5caf5db2",
   "metadata": {},
   "outputs": [],
   "source": [
    "# Programa para Imprimir un listado con los números impares desde 1 hasta 999\n",
    "numero : int = 1\n",
    "while numero <= 999:\n",
    "    if numero % 2 != 0:\n",
    "        print (numero)\n",
    "    numero = numero + 1\n",
    "\n",
    "# Programa para imprimir un listado con los números pares desde 2 hasta 1000\n",
    "numero : int = 0\n",
    "while numero <= 1000:\n",
    "    if numero % 2 == 0:\n",
    "        print (numero)\n",
    "    numero = numero + 1\n"
   ]
  },
  {
   "cell_type": "markdown",
   "id": "8a026f12",
   "metadata": {},
   "source": [
    "3. Imprimir los números pares en forma descendente hasta 2 que son menores o iguales a un número natural n ≥ 2 dado"
   ]
  },
  {
   "cell_type": "code",
   "execution_count": null,
   "id": "25046736",
   "metadata": {},
   "outputs": [],
   "source": [
    "# Programa para imprimir los números pares en forma descendente hasta 2 que son menores o iguales a un número natural n ≥ 2 dado\n",
    "\n",
    "numero = int(input(\"Ingrese un número natural mayor a 2 para ver los números pares de forma descendente hasta 2: \"))\n",
    "\n",
    "while numero > 2:\n",
    "    if numero % 2 == 0:\n",
    "        numero = numero - 2\n",
    "        print (numero)\n",
    "\n",
    "    else:\n",
    "        numero = numero - 1\n",
    "        print (numero)"
   ]
  },
  {
   "cell_type": "markdown",
   "id": "cbfb1bda",
   "metadata": {},
   "source": [
    "4. Imprimir el factorial de un número natural n dado."
   ]
  },
  {
   "cell_type": "code",
   "execution_count": null,
   "id": "daf6bc63",
   "metadata": {},
   "outputs": [],
   "source": [
    "# Programa para imprimir el factorial de un número natural dado\n",
    "\n",
    "contador : int = 1\n",
    "factorial : int = 1\n",
    "numero = int(input(\"Ingrese un número natural, el programa le dará el factorial de su número: \"))\n",
    "\n",
    "while contador <= numero:\n",
    "    factorial = factorial * contador\n",
    "    contador = contador + 1\n",
    "\n",
    "print(\"El factorial del número \"+str(numero)+ \" es \"+str(factorial))"
   ]
  },
  {
   "cell_type": "markdown",
   "id": "80d69503",
   "metadata": {},
   "source": [
    "5. Implementar un programa que ingrese un número de 2 a 50 y muestre sus divisores."
   ]
  },
  {
   "cell_type": "code",
   "execution_count": null,
   "id": "b5ee142a",
   "metadata": {},
   "outputs": [],
   "source": [
    "# Programa para encontrar los divisores de un número entre 2 a 50\n",
    "\n",
    "contador : int = 1\n",
    "numero = int(input(\"Ingrese un número de 2 a 50 y a continuación verá sus divisores: \"))\n",
    "\n",
    "while contador <= 50:\n",
    "    if numero % contador == 0:\n",
    "        print(contador)\n",
    "    contador = contador + 1"
   ]
  },
  {
   "cell_type": "markdown",
   "id": "47c31966",
   "metadata": {},
   "source": [
    "6. Implementar el algoritmo que muestre los números primos del 1 al 100."
   ]
  },
  {
   "cell_type": "code",
   "execution_count": null,
   "id": "2cc903dd",
   "metadata": {},
   "outputs": [],
   "source": [
    "# Programa para determinar los números primos del 1 al 100\n",
    "\n",
    "def es_primo(n):\n",
    "    if n < 2:\n",
    "        return False\n",
    "    i = 2\n",
    "    while i * i <= n:\n",
    "        if n % i == 0:\n",
    "            return False\n",
    "        i += 1\n",
    "    return True\n",
    "\n",
    "if __name__ == \"__main__\":\n",
    "    num = 1\n",
    "    print(\"Números primos del 1 al 100:\")\n",
    "\n",
    "    while num <= 100:\n",
    "        if es_primo(num):\n",
    "            print(num)\n",
    "        num = num + 1\n"
   ]
  }
 ],
 "metadata": {
  "kernelspec": {
   "display_name": "Python 3",
   "language": "python",
   "name": "python3"
  },
  "language_info": {
   "codemirror_mode": {
    "name": "ipython",
    "version": 3
   },
   "file_extension": ".py",
   "mimetype": "text/x-python",
   "name": "python",
   "nbconvert_exporter": "python",
   "pygments_lexer": "ipython3",
   "version": "3.12.3"
  }
 },
 "nbformat": 4,
 "nbformat_minor": 5
}
